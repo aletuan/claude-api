{
 "cells": [
  {
   "cell_type": "code",
   "execution_count": 38,
   "id": "5437be1e",
   "metadata": {},
   "outputs": [],
   "source": [
    "# Load env variables and create client\n",
    "from dotenv import load_dotenv\n",
    "from anthropic import Anthropic\n",
    "\n",
    "load_dotenv()\n",
    "\n",
    "client = Anthropic()\n",
    "model = \"claude-3-5-haiku-latest\""
   ]
  },
  {
   "cell_type": "code",
   "execution_count": 39,
   "id": "3b0d8e9c",
   "metadata": {},
   "outputs": [],
   "source": [
    "# Helper functions\n",
    "def add_user_message(messages, text):\n",
    "    user_message = {\"role\": \"user\", \"content\": text}\n",
    "    messages.append(user_message)\n",
    "\n",
    "\n",
    "def add_assistant_message(messages, text):\n",
    "    assistant_message = {\"role\": \"assistant\", \"content\": text}\n",
    "    messages.append(assistant_message)\n",
    "\n",
    "\n",
    "def chat(messages, system=None, temperature=1.0, stop_sequences=[]):\n",
    "    params = {\n",
    "        \"model\": model,\n",
    "        \"max_tokens\": 1000,\n",
    "        \"messages\": messages,\n",
    "        \"temperature\": temperature,\n",
    "        \"stop_sequences\": stop_sequences,\n",
    "    }\n",
    "\n",
    "    if system:\n",
    "        params[\"system\"] = system\n",
    "\n",
    "    message = client.messages.create(**params)\n",
    "    return message.content[0].text"
   ]
  },
  {
   "cell_type": "code",
   "execution_count": 40,
   "id": "54e58141",
   "metadata": {},
   "outputs": [],
   "source": [
    "def grade_by_model(test_case, output):\n",
    "    # Create evaluation prompt\n",
    "    eval_prompt = \"\"\"\n",
    "    You are an expert code reviewer. Evaluate this AI-generated solution.\n",
    "    \n",
    "    Task: {task}\n",
    "    Solution: {solution}\n",
    "    \n",
    "    Provide your evaluation as a structured JSON object with:\n",
    "    - \"strengths\": An array of 1-3 key strengths\n",
    "    - \"weaknesses\": An array of 1-3 key areas for improvement  \n",
    "    - \"reasoning\": A concise explanation of your assessment\n",
    "    - \"score\": A number between 1-10\n",
    "    \"\"\"\n",
    "    \n",
    "    messages = []\n",
    "    add_user_message(messages, eval_prompt)\n",
    "    add_assistant_message(messages, \"```json\")\n",
    "    \n",
    "    eval_text = chat(messages, stop_sequences=[\"```\"])\n",
    "    return json.loads(eval_text)"
   ]
  },
  {
   "cell_type": "code",
   "execution_count": 41,
   "id": "1e788701",
   "metadata": {},
   "outputs": [],
   "source": [
    "import json\n",
    "\n",
    "\n",
    "def generate_dataset():\n",
    "    prompt = \"\"\"\n",
    "Generate a evaluation dataset for a prompt evaluation. The dataset will be used to evaluate prompts\n",
    "that generate Python, JSON, or Regex specifically for AWS-related tasks. Generate an array of JSON objects,\n",
    "each representing task that requires Python, JSON, or a Regex to complete.\n",
    "\n",
    "Example output:\n",
    "```json\n",
    "[\n",
    "    {\n",
    "        \"task\": \"Description of task\",\n",
    "    },\n",
    "    ...additional\n",
    "]\n",
    "```\n",
    "\n",
    "* Focus on tasks that can be solved by writing a single Python function, a single JSON object, or a regular expression.\n",
    "* Focus on tasks that do not require writing much code\n",
    "\n",
    "Please generate 3 objects.\n",
    "\"\"\"\n",
    "\n",
    "    messages = []\n",
    "    add_user_message(messages, prompt)\n",
    "    add_assistant_message(messages, \"```json\")\n",
    "    text = chat(messages, stop_sequences=[\"```\"])\n",
    "\n",
    "    return json.loads(text)"
   ]
  },
  {
   "cell_type": "code",
   "execution_count": 42,
   "id": "a0fc9205",
   "metadata": {},
   "outputs": [
    {
     "name": "stdout",
     "output_type": "stream",
     "text": [
      "[\n",
      "  {\n",
      "    \"task\": \"Create a Python function to extract the AWS account ID from an AWS ARN (Amazon Resource Name)\"\n",
      "  },\n",
      "  {\n",
      "    \"task\": \"Write a JSON schema to validate an AWS EC2 instance configuration with required fields like instance type, AMI ID, and security group\"\n",
      "  },\n",
      "  {\n",
      "    \"task\": \"Develop a regular expression to match and validate AWS Lambda function names, which must start with a letter, can contain letters, numbers, and hyphens, and be between 1-64 characters long\"\n",
      "  }\n",
      "]\n"
     ]
    }
   ],
   "source": [
    "import json\n",
    "\n",
    "dataset = generate_dataset()\n",
    "print(json.dumps(dataset, indent=2))"
   ]
  },
  {
   "cell_type": "code",
   "execution_count": 43,
   "id": "172d2c33",
   "metadata": {},
   "outputs": [],
   "source": [
    "with open('dataset.json', 'w') as f:\n",
    "    json.dump(dataset, f, indent=2)"
   ]
  },
  {
   "cell_type": "code",
   "execution_count": 44,
   "id": "1c62fd11",
   "metadata": {},
   "outputs": [],
   "source": [
    "def run_prompt(test_case):\n",
    "    \"\"\"Merges the prompt and test case input, then returns the result\"\"\"\n",
    "    prompt = f\"\"\"\n",
    "Please solve the following task:\n",
    "\n",
    "{test_case[\"task\"]}\n",
    "\"\"\"\n",
    "    \n",
    "    messages = []\n",
    "    add_user_message(messages, prompt)\n",
    "    output = chat(messages)\n",
    "    return output"
   ]
  },
  {
   "cell_type": "code",
   "execution_count": 45,
   "id": "31e24986",
   "metadata": {},
   "outputs": [],
   "source": [
    "def run_test_case(test_case):\n",
    "    \"\"\"Calls run_prompt, then grades the result\"\"\"\n",
    "    output = run_prompt(test_case)\n",
    "    \n",
    "    # TODO - Grading\n",
    "    # Grade the output\n",
    "    model_grade = grade_by_model(test_case, output)\n",
    "    score = model_grade[\"score\"]\n",
    "    reasoning = model_grade[\"reasoning\"]\n",
    "    \n",
    "    return {\n",
    "        \"output\": output,\n",
    "        \"test_case\": test_case,\n",
    "        \"score\": score\n",
    "    }"
   ]
  },
  {
   "cell_type": "code",
   "execution_count": 46,
   "id": "7d7ebd52",
   "metadata": {},
   "outputs": [],
   "source": [
    "from statistics import mean\n",
    "\n",
    "def run_eval(dataset):\n",
    "    \"\"\"Loads the dataset and calls run_test_case with each case\"\"\"\n",
    "    results = []\n",
    "    \n",
    "    for test_case in dataset:\n",
    "        result = run_test_case(test_case)\n",
    "        results.append(result)\n",
    "    \n",
    "    average_score = mean([result[\"score\"] for result in results])\n",
    "    print(f\"Average score: {average_score}\")\n",
    "    \n",
    "    return results"
   ]
  },
  {
   "cell_type": "code",
   "execution_count": 47,
   "id": "4606090e",
   "metadata": {},
   "outputs": [
    {
     "name": "stdout",
     "output_type": "stream",
     "text": [
      "Average score: 3.3333333333333335\n",
      "[\n",
      "  {\n",
      "    \"output\": \"Here's a Python function to extract the AWS account ID from an AWS ARN:\\n\\n```python\\ndef extract_account_id_from_arn(arn):\\n    \\\"\\\"\\\"\\n    Extract the AWS account ID from a given ARN.\\n    \\n    Args:\\n        arn (str): The full AWS ARN string\\n    \\n    Returns:\\n        str: The AWS account ID, or None if the ARN is invalid\\n    \\\"\\\"\\\"\\n    # Check if the ARN is a valid string\\n    if not isinstance(arn, str):\\n        return None\\n    \\n    # Split the ARN into its components\\n    # Typical ARN format: arn:aws:service:region:account-id:resource-type/resource-id\\n    try:\\n        arn_parts = arn.split(':')\\n        \\n        # Validate basic ARN structure\\n        if len(arn_parts) < 5 or arn_parts[0] != 'arn' or arn_parts[1] != 'aws':\\n            return None\\n        \\n        # The account ID is typically the 5th part of the ARN\\n        account_id = arn_parts[4]\\n        \\n        # Validate that the account ID is a 12-digit number\\n        if not account_id.isdigit() or len(account_id) != 12:\\n            return None\\n        \\n        return account_id\\n    \\n    except Exception:\\n        return None\\n\\n# Test cases\\ndef test_extract_account_id():\\n    # Valid ARNs\\n    print(extract_account_id_from_arn('arn:aws:s3:::my-bucket'))  # Should return None\\n    print(extract_account_id_from_arn('arn:aws:iam::123456789012:user/username'))  # Should return '123456789012'\\n    print(extract_account_id_from_arn('arn:aws:ec2:us-west-2:123456789012:instance/i-1234567890abcdef0'))  # Should return '123456789012'\\n    \\n    # Invalid ARNs\\n    print(extract_account_id_from_arn('invalid-arn'))  # Should return None\\n    print(extract_account_id_from_arn(''))  # Should return None\\n    print(extract_account_id_from_arn(None))  # Should return None\\n    print(extract_account_id_from_arn('arn:aws:iam::12345:user/username'))  # Should return None (incorrect account ID length)\\n\\n# Run the tests\\ntest_extract_account_id()\\n```\\n\\nThis implementation provides a robust solution for extracting the AWS account ID from an ARN with several key features:\\n\\n1. Validates the basic ARN structure\\n2. Checks that the account ID is a 12-digit number\\n3. Handles various edge cases like invalid input types, malformed ARNs, etc.\\n\\nKey points about the implementation:\\n\\n- The function assumes the standard AWS ARN format\\n- It returns `None` for invalid or malformed ARNs\\n- It works with different AWS service ARNs (IAM, EC2, S3, etc.)\\n\\nExample usage:\\n```python\\n# Basic usage\\narn = 'arn:aws:iam::123456789012:user/username'\\naccount_id = extract_account_id_from_arn(arn)\\nprint(account_id)  # Outputs: 123456789012\\n```\\n\\nThe test cases demonstrate various scenarios:\\n- Valid ARNs with account IDs\\n- ARNs with different service types\\n- Invalid ARNs\\n- Edge cases like empty strings or None\\n\\nYou can modify or expand the function as needed for specific use cases or additional validation requirements.\\n\\nTime Complexity: O(1) - The operation is essentially a string split and basic validation\\nSpace Complexity: O(1) - Uses a fixed amount of additional memory\",\n",
      "    \"test_case\": {\n",
      "      \"task\": \"Create a Python function to extract the AWS account ID from an AWS ARN (Amazon Resource Name)\"\n",
      "    },\n",
      "    \"score\": 0\n",
      "  },\n",
      "  {\n",
      "    \"output\": \"Here's a comprehensive JSON schema to validate an AWS EC2 instance configuration:\\n\\n```json\\n{\\n    \\\"$schema\\\": \\\"http://json-schema.org/draft-07/schema#\\\",\\n    \\\"type\\\": \\\"object\\\",\\n    \\\"title\\\": \\\"AWS EC2 Instance Configuration\\\",\\n    \\\"required\\\": [\\n        \\\"instanceType\\\", \\n        \\\"amiId\\\", \\n        \\\"securityGroups\\\"\\n    ],\\n    \\\"properties\\\": {\\n        \\\"instanceType\\\": {\\n            \\\"type\\\": \\\"string\\\",\\n            \\\"description\\\": \\\"AWS EC2 instance type\\\",\\n            \\\"enum\\\": [\\n                \\\"t2.micro\\\", \\n                \\\"t2.small\\\", \\n                \\\"t2.medium\\\", \\n                \\\"m5.large\\\", \\n                \\\"c5.xlarge\\\"\\n            ]\\n        },\\n        \\\"amiId\\\": {\\n            \\\"type\\\": \\\"string\\\",\\n            \\\"description\\\": \\\"Amazon Machine Image ID\\\",\\n            \\\"pattern\\\": \\\"^ami-[a-f0-9]{8,17}$\\\"\\n        },\\n        \\\"securityGroups\\\": {\\n            \\\"type\\\": \\\"array\\\",\\n            \\\"minItems\\\": 1,\\n            \\\"items\\\": {\\n                \\\"type\\\": \\\"string\\\",\\n                \\\"description\\\": \\\"Security Group ID\\\"\\n            }\\n        },\\n        \\\"keyPair\\\": {\\n            \\\"type\\\": \\\"string\\\",\\n            \\\"description\\\": \\\"EC2 Key Pair name\\\"\\n        },\\n        \\\"networkConfiguration\\\": {\\n            \\\"type\\\": \\\"object\\\",\\n            \\\"properties\\\": {\\n                \\\"subnetId\\\": {\\n                    \\\"type\\\": \\\"string\\\",\\n                    \\\"description\\\": \\\"Subnet ID for instance deployment\\\"\\n                },\\n                \\\"publicIpAddress\\\": {\\n                    \\\"type\\\": \\\"boolean\\\",\\n                    \\\"description\\\": \\\"Enable public IP address\\\"\\n                }\\n            }\\n        },\\n        \\\"tags\\\": {\\n            \\\"type\\\": \\\"object\\\",\\n            \\\"additionalProperties\\\": {\\n                \\\"type\\\": \\\"string\\\"\\n            },\\n            \\\"description\\\": \\\"Resource tags\\\"\\n        },\\n        \\\"rootVolume\\\": {\\n            \\\"type\\\": \\\"object\\\",\\n            \\\"properties\\\": {\\n                \\\"volumeType\\\": {\\n                    \\\"type\\\": \\\"string\\\", \\n                    \\\"enum\\\": [\\\"gp2\\\", \\\"gp3\\\", \\\"io1\\\", \\\"standard\\\"]\\n                },\\n                \\\"volumeSize\\\": {\\n                    \\\"type\\\": \\\"number\\\", \\n                    \\\"minimum\\\": 8,\\n                    \\\"maximum\\\": 16384\\n                }\\n            }\\n        }\\n    },\\n    \\\"additionalProperties\\\": false\\n}\\n```\\n\\nExample valid configuration:\\n\\n```json\\n{\\n    \\\"instanceType\\\": \\\"t2.micro\\\",\\n    \\\"amiId\\\": \\\"ami-0c55b159cbfafe1f0\\\",\\n    \\\"securityGroups\\\": [\\\"sg-0123456789abcdef0\\\"],\\n    \\\"keyPair\\\": \\\"my-key-pair\\\",\\n    \\\"networkConfiguration\\\": {\\n        \\\"subnetId\\\": \\\"subnet-0123456789abcdef0\\\",\\n        \\\"publicIpAddress\\\": true\\n    },\\n    \\\"tags\\\": {\\n        \\\"Name\\\": \\\"MyEC2Instance\\\",\\n        \\\"Environment\\\": \\\"Production\\\"\\n    },\\n    \\\"rootVolume\\\": {\\n        \\\"volumeType\\\": \\\"gp2\\\",\\n        \\\"volumeSize\\\": 50\\n    }\\n}\\n```\\n\\nKey schema features:\\n1. Validates required fields\\n2. Restricts instance types\\n3. Validates AMI ID format\\n4. Ensures at least one security group\\n5. Optional network and volume configurations\\n6. Allows resource tagging\\n7. Prevents additional unknown properties\\n\\nThis schema provides comprehensive validation for AWS EC2 instance configurations.\",\n",
      "    \"test_case\": {\n",
      "      \"task\": \"Write a JSON schema to validate an AWS EC2 instance configuration with required fields like instance type, AMI ID, and security group\"\n",
      "    },\n",
      "    \"score\": 5\n",
      "  },\n",
      "  {\n",
      "    \"output\": \"Here's a solution to validate AWS Lambda function names using a regular expression:\\n\\n```python\\nimport re\\n\\ndef validate_lambda_function_name(function_name):\\n    # Regular expression pattern for AWS Lambda function names\\n    pattern = r'^[a-zA-Z][a-zA-Z0-9-]{0,63}$'\\n    \\n    # Check if the function name matches the pattern\\n    return bool(re.match(pattern, function_name))\\n\\n# Test cases\\ntest_names = [\\n    \\\"my-lambda-function\\\",  # Valid\\n    \\\"MyLambdaFunction123\\\", # Valid\\n    \\\"lambda-func-1\\\",       # Valid\\n    \\\"1invalid-name\\\",       # Invalid (starts with number)\\n    \\\"\\\",                    # Invalid (too short)\\n    \\\"a\\\" * 65,              # Invalid (too long)\\n    \\\"invalid name\\\",        # Invalid (contains space)\\n    \\\"invalid_name\\\"         # Invalid (contains underscore)\\n]\\n\\n# Validate and print results\\nfor name in test_names:\\n    print(f\\\"{name}: {validate_lambda_function_name(name)}\\\")\\n```\\n\\nLet's break down the regular expression `^[a-zA-Z][a-zA-Z0-9-]{0,63}$`:\\n\\n- `^` - Start of the string\\n- `[a-zA-Z]` - First character must be a letter\\n- `[a-zA-Z0-9-]{0,63}` - Next 0-63 characters can be letters, numbers, or hyphens\\n- `$` - End of the string\\n\\nThis regex ensures:\\n- Starts with a letter\\n- Can contain letters, numbers, and hyphens\\n- Total length between 1-64 characters\\n\\nKey validation rules:\\n- Must start with a letter\\n- Can contain letters, numbers, and hyphens\\n- Length between 1-64 characters\\n- No spaces or special characters other than hyphens\\n\\nWhen you run this code, it will output:\\n```\\nmy-lambda-function: True\\nMyLambdaFunction123: True\\nlambda-func-1: True\\n1invalid-name: False\\n: False\\naaaaaaa...(65 chars): False\\ninvalid name: False\\ninvalid_name: False\\n```\\n\\nYou can easily integrate this validation function into your AWS Lambda function naming process to ensure compliance with AWS naming conventions.\",\n",
      "    \"test_case\": {\n",
      "      \"task\": \"Develop a regular expression to match and validate AWS Lambda function names, which must start with a letter, can contain letters, numbers, and hyphens, and be between 1-64 characters long\"\n",
      "    },\n",
      "    \"score\": 5\n",
      "  }\n",
      "]\n"
     ]
    }
   ],
   "source": [
    "with open(\"dataset.json\", \"r\") as f:\n",
    "    dataset = json.load(f)\n",
    "\n",
    "results = run_eval(dataset)\n",
    "\n",
    "print(json.dumps(results, indent=2))"
   ]
  }
 ],
 "metadata": {
  "kernelspec": {
   "display_name": "Python 3",
   "language": "python",
   "name": "python3"
  },
  "language_info": {
   "codemirror_mode": {
    "name": "ipython",
    "version": 3
   },
   "file_extension": ".py",
   "mimetype": "text/x-python",
   "name": "python",
   "nbconvert_exporter": "python",
   "pygments_lexer": "ipython3",
   "version": "3.10.18"
  }
 },
 "nbformat": 4,
 "nbformat_minor": 5
}
