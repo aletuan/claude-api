{
 "cells": [
  {
   "cell_type": "code",
   "execution_count": 1,
   "id": "5437be1e",
   "metadata": {},
   "outputs": [],
   "source": [
    "# Load env variables and create client\n",
    "from dotenv import load_dotenv\n",
    "from anthropic import Anthropic\n",
    "\n",
    "load_dotenv()\n",
    "\n",
    "client = Anthropic()\n",
    "model = \"claude-3-5-haiku-latest\""
   ]
  },
  {
   "cell_type": "code",
   "execution_count": 2,
   "id": "3b0d8e9c",
   "metadata": {},
   "outputs": [],
   "source": [
    "# Helper functions\n",
    "def add_user_message(messages, text):\n",
    "    user_message = {\"role\": \"user\", \"content\": text}\n",
    "    messages.append(user_message)\n",
    "\n",
    "\n",
    "def add_assistant_message(messages, text):\n",
    "    assistant_message = {\"role\": \"assistant\", \"content\": text}\n",
    "    messages.append(assistant_message)\n",
    "\n",
    "\n",
    "def chat(messages, system=None, temperature=1.0, stop_sequences=[]):\n",
    "    params = {\n",
    "        \"model\": model,\n",
    "        \"max_tokens\": 1000,\n",
    "        \"messages\": messages,\n",
    "        \"temperature\": temperature,\n",
    "        \"stop_sequences\": stop_sequences,\n",
    "    }\n",
    "\n",
    "    if system:\n",
    "        params[\"system\"] = system\n",
    "\n",
    "    message = client.messages.create(**params)\n",
    "    return message.content[0].text"
   ]
  },
  {
   "cell_type": "code",
   "execution_count": null,
   "id": "54e58141",
   "metadata": {},
   "outputs": [],
   "source": "def grade_by_model(test_case, output):\n    # Create evaluation prompt\n    eval_prompt = f\"\"\"\nYou are an expert code reviewer. Evaluate this AI-generated solution.\n\nTask: {test_case[\"task\"]}\nSolution: {output}\n\nProvide your evaluation as a structured JSON object with:\n- \"strengths\": An array of 1-3 key strengths\n- \"weaknesses\": An array of 1-3 key areas for improvement  \n- \"reasoning\": A concise explanation of your assessment\n- \"score\": A number between 1-10\n\"\"\"\n    \n    messages = []\n    add_user_message(messages, eval_prompt)\n    add_assistant_message(messages, \"```json\")\n    \n    eval_text = chat(messages, stop_sequences=[\"```\"])\n    try:\n        return json.loads(eval_text)\n    except json.JSONDecodeError:\n        return {\"score\": 0, \"strengths\": [], \"weaknesses\": [], \"reasoning\": \"Failed to parse evaluation\"}"
  },
  {
   "cell_type": "code",
   "execution_count": null,
   "id": "1e788701",
   "metadata": {},
   "outputs": [],
   "source": [
    "# Function to generate a new dataset\n",
    "import json\n",
    "\n",
    "\n",
    "def generate_dataset():\n",
    "    prompt = \"\"\"\n",
    "Generate a evaluation dataset for a prompt evaluation. The dataset will be used to evaluate prompts\n",
    "that generate Python, JSON, or Regex specifically for AWS-related tasks. Generate an array of JSON objects,\n",
    "each representing task that requires Python, JSON, or a Regex to complete.\n",
    "\n",
    "Example output:\n",
    "```json\n",
    "[\n",
    "    {\n",
    "        \"task\": \"Description of task\",\n",
    "        \"format\": \"json\" or \"python\" or \"regex\"\n",
    "    },\n",
    "    ...additional\n",
    "]\n",
    "```\n",
    "\n",
    "* Focus on tasks that can be solved by writing a single Python function, a single JSON object, or a regular expression.\n",
    "* Focus on tasks that do not require writing much code\n",
    "* Respond only with Python, JSON, or a plain Regex\n",
    "* Do not add any comments or commentary or explanation\n",
    "\n",
    "Please generate 3 objects.\n",
    "\"\"\"\n",
    "\n",
    "    messages = []\n",
    "    add_user_message(messages, prompt)\n",
    "    add_assistant_message(messages, \"```json\")\n",
    "    text = chat(messages, stop_sequences=[\"```\"])\n",
    "    return json.loads(text)"
   ]
  },
  {
   "cell_type": "code",
   "execution_count": 5,
   "id": "a0fc9205",
   "metadata": {},
   "outputs": [
    {
     "name": "stdout",
     "output_type": "stream",
     "text": [
      "[\n",
      "  {\n",
      "    \"task\": \"Create a regular expression to validate an AWS IAM username, which must be between 1-64 characters, can only contain alphanumeric characters and certain symbols (_+=,.@-), and cannot start with a hyphen\",\n",
      "    \"format\": \"regex\"\n",
      "  },\n",
      "  {\n",
      "    \"task\": \"Write a Python function that generates a formatted AWS S3 bucket policy allowing read-only access to a specific bucket for an IAM role\",\n",
      "    \"format\": \"python\"\n",
      "  },\n",
      "  {\n",
      "    \"task\": \"Create a JSON object representing an AWS CloudWatch alarm configuration for monitoring high CPU utilization on an EC2 instance\",\n",
      "    \"format\": \"json\"\n",
      "  }\n",
      "]\n"
     ]
    }
   ],
   "source": [
    "import json\n",
    "\n",
    "dataset = generate_dataset()\n",
    "print(json.dumps(dataset, indent=2))"
   ]
  },
  {
   "cell_type": "code",
   "execution_count": 6,
   "id": "172d2c33",
   "metadata": {},
   "outputs": [],
   "source": [
    "with open('dataset.json', 'w') as f:\n",
    "    json.dump(dataset, f, indent=2)"
   ]
  },
  {
   "cell_type": "code",
   "execution_count": null,
   "id": "1c62fd11",
   "metadata": {},
   "outputs": [],
   "source": "def run_prompt(test_case):\n    \"\"\"Merges the prompt and test case input, then returns the result\"\"\"\n    format_type = test_case[\"format\"]\n\n    if format_type == \"python\":\n        prompt = f\"\"\"\nTask: {test_case[\"task\"]}\n\nRequirements:\n- Provide ONLY valid Python code\n- No markdown formatting, no backticks, no explanations\n- No comments or docstrings\n- Start directly with the function definition\n- Single function only\n\"\"\"\n    elif format_type == \"json\":\n        prompt = f\"\"\"\nTask: {test_case[\"task\"]}\n\nRequirements:\n- Provide ONLY valid JSON\n- No markdown formatting, no backticks, no explanations\n- No comments before or after the JSON\n- Start directly with opening brace {{\n\"\"\"\n    elif format_type == \"regex\":\n        prompt = f\"\"\"\nTask: {test_case[\"task\"]}\n\nRequirements:\n- Provide ONLY the regex pattern\n- No markdown formatting, no backticks, no explanations\n- No anchors unless specifically needed\n- Just the raw regex pattern\n\"\"\"\n    else:\n        prompt = f\"\"\"\nPlease solve the following task:\n\n{test_case[\"task\"]}\n\nProvide only the solution without any explanation or formatting.\n\"\"\"\n\n    messages = []\n    add_user_message(messages, prompt)\n    output = chat(messages)\n    return output"
  },
  {
   "cell_type": "code",
   "execution_count": null,
   "id": "5323dd3d",
   "metadata": {},
   "outputs": [],
   "source": "# Functions to validate the output structure\nimport re\nimport ast\n\n\ndef extract_code_from_markdown(text, language):\n    \"\"\"Extract code from markdown code blocks\"\"\"\n    pattern = rf'```{language}(.*?)```'\n    matches = re.findall(pattern, text, re.DOTALL | re.IGNORECASE)\n    if matches:\n        return matches[0].strip()\n    \n    # Try without language specifier\n    pattern = r'```(.*?)```'\n    matches = re.findall(pattern, text, re.DOTALL)\n    if matches:\n        return matches[0].strip()\n    \n    return None\n\n\ndef validate_json(text):\n    \"\"\"Validate JSON with fallback to markdown extraction\"\"\"\n    text = text.strip()\n    \n    # First try direct parsing\n    try:\n        json.loads(text)\n        return 10\n    except json.JSONDecodeError:\n        pass\n    \n    # Try extracting from markdown\n    extracted = extract_code_from_markdown(text, 'json')\n    if extracted:\n        try:\n            json.loads(extracted)\n            return 10\n        except json.JSONDecodeError:\n            pass\n    \n    return 0\n\n\ndef validate_python(text):\n    \"\"\"Validate Python with fallback to markdown extraction\"\"\"\n    text = text.strip()\n    \n    # First try direct parsing\n    try:\n        ast.parse(text)\n        return 10\n    except SyntaxError:\n        pass\n    \n    # Try extracting from markdown\n    extracted = extract_code_from_markdown(text, 'python')\n    if extracted:\n        try:\n            ast.parse(extracted)\n            return 10\n        except SyntaxError:\n            pass\n    \n    return 0\n\n\ndef validate_regex(text):\n    \"\"\"Validate regex with fallback to markdown extraction\"\"\"\n    text = text.strip()\n    \n    # First try direct compilation\n    try:\n        re.compile(text)\n        return 10\n    except re.error:\n        pass\n    \n    # Try extracting from markdown\n    extracted = extract_code_from_markdown(text, 'regex')\n    if extracted:\n        try:\n            re.compile(extracted)\n            return 10\n        except re.error:\n            pass\n    \n    # Try finding regex patterns in text\n    lines = text.split('\\n')\n    for line in lines:\n        line = line.strip()\n        if line and not line.startswith('#') and not line.startswith('//'):\n            try:\n                re.compile(line)\n                return 10\n            except re.error:\n                continue\n    \n    return 0\n\n\ndef grade_syntax(response, test_case):\n    format_type = test_case[\"format\"]\n    if format_type == \"json\":\n        return validate_json(response)\n    elif format_type == \"python\":\n        return validate_python(response)\n    else:\n        return validate_regex(response)"
  },
  {
   "cell_type": "code",
   "execution_count": 9,
   "id": "31e24986",
   "metadata": {},
   "outputs": [],
   "source": [
    "def run_test_case(test_case):\n",
    "    \"\"\"Calls run_prompt, then grades the result\"\"\"\n",
    "    output = run_prompt(test_case)\n",
    "    \n",
    "    # TODO - Grading\n",
    "    # Grade the output\n",
    "    model_grade = grade_by_model(test_case, output)\n",
    "    model_score = model_grade[\"score\"]\n",
    "    syntax_score = grade_syntax(output, test_case)\n",
    "\n",
    "    score = (model_score + syntax_score) / 2\n",
    "    \n",
    "    return {\n",
    "        \"output\": output,\n",
    "        \"test_case\": test_case,\n",
    "        \"score\": score\n",
    "    }"
   ]
  },
  {
   "cell_type": "code",
   "execution_count": 10,
   "id": "7d7ebd52",
   "metadata": {},
   "outputs": [],
   "source": [
    "from statistics import mean\n",
    "\n",
    "def run_eval(dataset):\n",
    "    \"\"\"Loads the dataset and calls run_test_case with each case\"\"\"\n",
    "    results = []\n",
    "    \n",
    "    for test_case in dataset:\n",
    "        result = run_test_case(test_case)\n",
    "        results.append(result)\n",
    "    \n",
    "    average_score = mean([result[\"score\"] for result in results])\n",
    "    print(f\"Average score: {average_score}\")\n",
    "    \n",
    "    return results"
   ]
  },
  {
   "cell_type": "code",
   "execution_count": null,
   "id": "4606090e",
   "metadata": {},
   "outputs": [],
   "source": "with open(\"dataset.json\", \"r\") as f:\n    dataset = json.load(f)\n\nresults = run_eval(dataset)\n\nprint(json.dumps(results, indent=2))"
  }
 ],
 "metadata": {
  "kernelspec": {
   "display_name": "Python 3",
   "language": "python",
   "name": "python3"
  },
  "language_info": {
   "codemirror_mode": {
    "name": "ipython",
    "version": 3
   },
   "file_extension": ".py",
   "mimetype": "text/x-python",
   "name": "python",
   "nbconvert_exporter": "python",
   "pygments_lexer": "ipython3",
   "version": "3.10.18"
  }
 },
 "nbformat": 4,
 "nbformat_minor": 5
}