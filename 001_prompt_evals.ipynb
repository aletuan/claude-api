{
 "cells": [
  {
   "cell_type": "code",
   "execution_count": 4,
   "id": "5437be1e",
   "metadata": {},
   "outputs": [],
   "source": [
    "# Load env variables and create client\n",
    "from dotenv import load_dotenv\n",
    "from anthropic import Anthropic\n",
    "\n",
    "load_dotenv()\n",
    "\n",
    "client = Anthropic()\n",
    "model = \"claude-3-5-haiku-latest\""
   ]
  },
  {
   "cell_type": "code",
   "execution_count": 5,
   "id": "3b0d8e9c",
   "metadata": {},
   "outputs": [],
   "source": [
    "# Helper functions\n",
    "def add_user_message(messages, text):\n",
    "    user_message = {\"role\": \"user\", \"content\": text}\n",
    "    messages.append(user_message)\n",
    "\n",
    "\n",
    "def add_assistant_message(messages, text):\n",
    "    assistant_message = {\"role\": \"assistant\", \"content\": text}\n",
    "    messages.append(assistant_message)\n",
    "\n",
    "\n",
    "def chat(messages, system=None, temperature=1.0, stop_sequences=[]):\n",
    "    params = {\n",
    "        \"model\": model,\n",
    "        \"max_tokens\": 1000,\n",
    "        \"messages\": messages,\n",
    "        \"temperature\": temperature,\n",
    "        \"stop_sequences\": stop_sequences,\n",
    "    }\n",
    "\n",
    "    if system:\n",
    "        params[\"system\"] = system\n",
    "\n",
    "    message = client.messages.create(**params)\n",
    "    return message.content[0].text"
   ]
  },
  {
   "cell_type": "code",
   "execution_count": null,
   "id": "54e58141",
   "metadata": {},
   "outputs": [],
   "source": "def grade_by_model(test_case, output):\n    # Create evaluation prompt\n    eval_prompt = f\"\"\"\n    You are an expert code reviewer. Evaluate this AI-generated solution.\n\n    Task: {test_case['task']}\n    Solution: {output}\n\n    Provide your evaluation as a structured JSON object with:\n    - \"strengths\": An array of 1-3 key strengths\n    - \"weaknesses\": An array of 1-3 key areas for improvement\n    - \"reasoning\": A concise explanation of your assessment\n    - \"score\": A number between 1-10\n    \"\"\"\n\n    messages = []\n    add_user_message(messages, eval_prompt)\n    add_assistant_message(messages, \"```json\")\n\n    eval_text = chat(messages, stop_sequences=[\"```\"])\n    return json.loads(eval_text)"
  },
  {
   "cell_type": "code",
   "execution_count": 17,
   "id": "1e788701",
   "metadata": {},
   "outputs": [],
   "source": [
    "import json\n",
    "\n",
    "\n",
    "def generate_dataset():\n",
    "    prompt = \"\"\"\n",
    "Generate a evaluation dataset for a prompt evaluation. The dataset will be used to evaluate prompts\n",
    "that generate Python, JSON, or Regex specifically for AWS-related tasks. Generate an array of JSON objects,\n",
    "each representing task that requires Python, JSON, or a Regex to complete.\n",
    "\n",
    "Example output:\n",
    "```json\n",
    "[\n",
    "    {\n",
    "        \"task\": \"Description of task\",\n",
    "    },\n",
    "    ...additional\n",
    "]\n",
    "```\n",
    "\n",
    "* Focus on tasks that can be solved by writing a single Python function, a single JSON object, or a regular expression.\n",
    "* Focus on tasks that do not require writing much code\n",
    "\n",
    "Please generate 3 objects.\n",
    "\"\"\"\n",
    "\n",
    "    messages = []\n",
    "    add_user_message(messages, prompt)\n",
    "    add_assistant_message(messages, \"```json\")\n",
    "    text = chat(messages, stop_sequences=[\"```\"])\n",
    "\n",
    "    return json.loads(text)"
   ]
  },
  {
   "cell_type": "code",
   "execution_count": 18,
   "id": "a0fc9205",
   "metadata": {},
   "outputs": [
    {
     "name": "stdout",
     "output_type": "stream",
     "text": [
      "[\n",
      "  {\n",
      "    \"task\": \"Create a Python function that validates an AWS IAM username follows the required naming conventions (lowercase, 64 chars max, starts with a letter, contains only letters, numbers, and certain special characters)\",\n",
      "    \"type\": \"Python Function\"\n",
      "  },\n",
      "  {\n",
      "    \"task\": \"Write a JSON schema to define the structure for an AWS CloudFormation template parameter section, ensuring required fields and allowed value types\",\n",
      "    \"type\": \"JSON Schema\"\n",
      "  },\n",
      "  {\n",
      "    \"task\": \"Develop a regular expression that matches valid AWS EC2 instance IDs (format: i-[alphanumeric characters], exactly 17 characters long)\",\n",
      "    \"type\": \"Regex\"\n",
      "  }\n",
      "]\n"
     ]
    }
   ],
   "source": [
    "import json\n",
    "\n",
    "dataset = generate_dataset()\n",
    "print(json.dumps(dataset, indent=2))"
   ]
  },
  {
   "cell_type": "code",
   "execution_count": 19,
   "id": "172d2c33",
   "metadata": {},
   "outputs": [],
   "source": [
    "with open('dataset.json', 'w') as f:\n",
    "    json.dump(dataset, f, indent=2)"
   ]
  },
  {
   "cell_type": "code",
   "execution_count": 20,
   "id": "1c62fd11",
   "metadata": {},
   "outputs": [],
   "source": [
    "def run_prompt(test_case):\n",
    "    \"\"\"Merges the prompt and test case input, then returns the result\"\"\"\n",
    "    prompt = f\"\"\"\n",
    "Please solve the following task:\n",
    "\n",
    "{test_case[\"task\"]}\n",
    "\"\"\"\n",
    "    \n",
    "    messages = []\n",
    "    add_user_message(messages, prompt)\n",
    "    output = chat(messages)\n",
    "    return output"
   ]
  },
  {
   "cell_type": "code",
   "execution_count": 22,
   "id": "31e24986",
   "metadata": {},
   "outputs": [],
   "source": [
    "def run_test_case(test_case):\n",
    "    \"\"\"Calls run_prompt, then grades the result\"\"\"\n",
    "    output = run_prompt(test_case)\n",
    "    \n",
    "    # TODO - Grading\n",
    "    # Grade the output\n",
    "    model_grade = grade_by_model(test_case, output)\n",
    "    score = model_grade[\"score\"]\n",
    "    reasoning = model_grade[\"reasoning\"]\n",
    "    \n",
    "    return {\n",
    "        \"output\": output,\n",
    "        \"test_case\": test_case,\n",
    "        \"score\": score\n",
    "    }"
   ]
  },
  {
   "cell_type": "code",
   "execution_count": null,
   "id": "7d7ebd52",
   "metadata": {},
   "outputs": [],
   "source": "from statistics import mean\n\ndef run_eval(dataset):\n    \"\"\"Loads the dataset and calls run_test_case with each case\"\"\"\n    results = []\n    \n    for test_case in dataset:\n        result = run_test_case(test_case)\n        results.append(result)\n    \n    average_score = mean([result[\"score\"] for result in results])\n    print(f\"Average score: {average_score}\")\n    \n    return results"
  },
  {
   "cell_type": "code",
   "execution_count": 15,
   "id": "4606090e",
   "metadata": {},
   "outputs": [
    {
     "name": "stdout",
     "output_type": "stream",
     "text": [
      "[\n",
      "  {\n",
      "    \"output\": \"Here's a regular expression that validates an AWS IAM username according to the specified requirements:\\n\\n```\\n^[a-zA-Z][a-zA-Z0-9+=,.@_]*$\\n```\\n\\nLet's break down the regex:\\n\\n- `^` - Anchors the start of the string\\n- `[a-zA-Z]` - Ensures the first character is a letter (uppercase or lowercase)\\n- `[a-zA-Z0-9+=,.@_]*` - Allows zero or more characters that are:\\n  - Letters (a-z or A-Z)\\n  - Numbers (0-9)\\n  - Specific special characters: +, =, ,, ., @, _\\n- `$` - Anchors the end of the string\\n\\nExamples of valid usernames:\\n- john.doe\\n- jane_smith\\n- user123\\n- admin+test\\n- john.doe@company\\n\\nExamples of invalid usernames:\\n- 123user (starts with a number)\\n- user! (contains an unauthorized special character)\\n- #username (starts with an unauthorized special character)\\n\\nYou can test this regex in most programming languages or regex testers to validate AWS IAM usernames.\",\n",
      "    \"test_case\": {\n",
      "      \"task\": \"Create a regular expression to validate an AWS IAM username, which must start with a letter and can only contain letters, numbers, and these special characters: +, =, ,, ., @, _\"\n",
      "    },\n",
      "    \"score\": 10\n",
      "  },\n",
      "  {\n",
      "    \"output\": \"Here's a Python function that converts an AWS Lambda function name into a valid CloudFormation resource logical ID:\\n\\n```python\\nimport re\\n\\ndef lambda_function_to_logical_id(function_name):\\n    \\\"\\\"\\\"\\n    Convert a Lambda function name to a valid CloudFormation logical ID.\\n    \\n    Rules:\\n    1. Must start with a letter\\n    2. Can contain letters, numbers, and underscores\\n    3. Replace any invalid characters with underscores\\n    4. Ensure the first character is a letter\\n    \\n    Args:\\n        function_name (str): The original Lambda function name\\n    \\n    Returns:\\n        str: A valid CloudFormation logical ID\\n    \\\"\\\"\\\"\\n    # Replace any non-alphanumeric characters with underscores\\n    logical_id = re.sub(r'[^a-zA-Z0-9]', '_', function_name)\\n    \\n    # Ensure the first character is a letter\\n    # If it starts with a number, prepend an 'F' (for Function)\\n    if not logical_id[0].isalpha():\\n        logical_id = 'F' + logical_id\\n    \\n    # Limit the length if needed (CloudFormation has a max length)\\n    logical_id = logical_id[:255]\\n    \\n    return logical_id\\n\\n# Example usage\\ndef main():\\n    # Test cases\\n    test_names = [\\n        \\\"my-lambda-function\\\",\\n        \\\"lambda_function_123\\\",\\n        \\\"123-invalid-start\\\",\\n        \\\"special!@#$%^&*()characters\\\",\\n        \\\"very-long-function-name-with-many-characters-that-might-exceed-the-maximum-allowed-length\\\"\\n    ]\\n    \\n    for name in test_names:\\n        logical_id = lambda_function_to_logical_id(name)\\n        print(f\\\"Original: {name}\\\")\\n        print(f\\\"Logical ID: {logical_id}\\\")\\n        print()\\n\\nif __name__ == \\\"__main__\\\":\\n    main()\\n```\\n\\nThis implementation does the following:\\n\\n1. Uses `re.sub()` to replace any non-alphanumeric characters with underscores\\n2. Checks if the first character is a letter\\n   - If not, prepends an 'F' to make it a valid identifier\\n3. Limits the length to 255 characters (CloudFormation's maximum)\\n\\nExample output:\\n```\\nOriginal: my-lambda-function\\nLogical ID: my_lambda_function\\n\\nOriginal: lambda_function_123\\nLogical ID: lambda_function_123\\n\\nOriginal: 123-invalid-start\\nLogical ID: F123_invalid_start\\n\\nOriginal: special!@#$%^&*()characters\\nLogical ID: special_________characters\\n\\nOriginal: very-long-function-name-with-many-characters-that-might-exceed-the-maximum-allowed-length\\nLogical ID: very_long_function_name_with_many_characters_that_might_exceed_the_maximum_allowed_le\\n```\\n\\nKey features:\\n- Handles special characters\\n- Ensures the ID starts with a letter\\n- Replaces invalid characters with underscores\\n- Truncates to 255 characters if needed\\n\\nYou can customize the function further if you have specific additional requirements for logical ID generation.\",\n",
      "    \"test_case\": {\n",
      "      \"task\": \"Write a Python function that converts an AWS Lambda function name into a valid CloudFormation resource logical ID by replacing invalid characters with underscores\"\n",
      "    },\n",
      "    \"score\": 10\n",
      "  },\n",
      "  {\n",
      "    \"output\": \"Here's a JSON object representing an AWS CloudFormation parameter for a VPC ID input with validation:\\n\\n```json\\n{\\n  \\\"VpcId\\\": {\\n    \\\"Type\\\": \\\"AWS::EC2::VPC::Id\\\",\\n    \\\"Description\\\": \\\"The ID of the VPC to deploy resources into\\\",\\n    \\\"AllowedPattern\\\": \\\"^vpc-[a-z0-9]+$\\\",\\n    \\\"ConstraintDescription\\\": \\\"Must be a valid VPC ID starting with 'vpc-' followed by alphanumeric characters\\\",\\n    \\\"Default\\\": \\\"vpc-12345678\\\"\\n  }\\n}\\n```\\n\\nLet me break down the key components:\\n\\n- `Type`: Uses the AWS-specific `AWS::EC2::VPC::Id` type for built-in VPC ID validation\\n- `Description`: Provides context for the parameter\\n- `AllowedPattern`: Regular expression ensuring the VPC ID starts with 'vpc-' and is followed by alphanumeric characters\\n- `ConstraintDescription`: Helpful error message if validation fails\\n- `Default`: Optional default VPC ID (you can remove or modify as needed)\\n\\nThis JSON object can be used within a CloudFormation template's `Parameters` section to provide a validated VPC ID input.\",\n",
      "    \"test_case\": {\n",
      "      \"task\": \"Create a JSON object representing an AWS CloudFormation parameter for a VPC ID input with validation to ensure it matches the pattern of a standard AWS VPC ID (starts with 'vpc-' followed by alphanumeric characters)\"\n",
      "    },\n",
      "    \"score\": 10\n",
      "  }\n",
      "]\n"
     ]
    }
   ],
   "source": [
    "with open(\"dataset.json\", \"r\") as f:\n",
    "    dataset = json.load(f)\n",
    "\n",
    "results = run_eval(dataset)\n",
    "\n",
    "print(json.dumps(results, indent=2))"
   ]
  }
 ],
 "metadata": {
  "kernelspec": {
   "display_name": "Python 3",
   "language": "python",
   "name": "python3"
  },
  "language_info": {
   "codemirror_mode": {
    "name": "ipython",
    "version": 3
   },
   "file_extension": ".py",
   "mimetype": "text/x-python",
   "name": "python",
   "nbconvert_exporter": "python",
   "pygments_lexer": "ipython3",
   "version": "3.10.18"
  }
 },
 "nbformat": 4,
 "nbformat_minor": 5
}